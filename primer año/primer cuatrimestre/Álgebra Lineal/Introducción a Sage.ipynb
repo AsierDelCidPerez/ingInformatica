{
 "cells": [
  {
   "cell_type": "code",
   "execution_count": 1,
   "id": "3bc0f8aa-aaa5-468e-80db-d35778370a59",
   "metadata": {},
   "outputs": [],
   "source": [
    "a = 3.0"
   ]
  },
  {
   "cell_type": "code",
   "execution_count": 2,
   "id": "34012d99-e599-4583-93b8-46f490876a47",
   "metadata": {},
   "outputs": [
    {
     "data": {
      "text/plain": [
       "<class 'sage.rings.real_mpfr.RealLiteral'>"
      ]
     },
     "execution_count": 2,
     "metadata": {},
     "output_type": "execute_result"
    }
   ],
   "source": [
    "type(a)"
   ]
  },
  {
   "cell_type": "code",
   "execution_count": 3,
   "id": "8e977514-a5f3-4ba0-9962-a98a993b59cc",
   "metadata": {},
   "outputs": [
    {
     "data": {
      "text/plain": [
       "144115188075855872"
      ]
     },
     "execution_count": 3,
     "metadata": {},
     "output_type": "execute_result"
    }
   ],
   "source": [
    "2^57"
   ]
  },
  {
   "cell_type": "code",
   "execution_count": null,
   "id": "7a26fa3f-6c7c-45a0-934d-74f7ed5f89ec",
   "metadata": {},
   "outputs": [],
   "source": [
    "M"
   ]
  }
 ],
 "metadata": {
  "kernelspec": {
   "display_name": "SageMath 10.3",
   "language": "sage",
   "name": "sagemath"
  },
  "language_info": {
   "codemirror_mode": {
    "name": "ipython",
    "version": 3
   },
   "file_extension": ".py",
   "mimetype": "text/x-python",
   "name": "python",
   "nbconvert_exporter": "python",
   "pygments_lexer": "ipython3",
   "version": "3.10.14"
  }
 },
 "nbformat": 4,
 "nbformat_minor": 5
}
